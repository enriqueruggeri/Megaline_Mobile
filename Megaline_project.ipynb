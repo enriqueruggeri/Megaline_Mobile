{
 "cells": [
  {
   "cell_type": "markdown",
   "metadata": {},
   "source": [
    "# Megaline Mobile Phone Company - Customer Classification <a class=\"tocSkip\"></a>"
   ]
  },
  {
   "cell_type": "markdown",
   "metadata": {},
   "source": [
    "----"
   ]
  },
  {
   "cell_type": "markdown",
   "metadata": {},
   "source": [
    "### Introducción."
   ]
  },
  {
   "cell_type": "markdown",
   "metadata": {},
   "source": [
    "Este proyecto vamos a trabajar con datos pertenecientes a la compañía móvil Megaline, la cual no está satisfecha al ver que muchos de sus clientes utilizan planes heredados. Por lo que desean desarrollar un modelo que pueda analizar el comportamiento de los clientes y recomendar uno de los nuevos planes de Megaline: Smart o Ultra, para lo cual tenemos acceso a los datos de comportamiento de los suscriptores que ya se han cambiado a los planes nuevos. \n",
    "\n",
    "Este proyecto se trata de una tarea de clasificación, en la cual se debe crear un modelo que escoja el plan correcto con la mayor exactitud posible, con un umbral de exactitud es 0.75.\n",
    "\n",
    "En el enunciado nos indican que no es necesario realizar el paso de procesar los datos.\n"
   ]
  },
  {
   "cell_type": "markdown",
   "metadata": {},
   "source": [
    "### Inicialización y carga de datos. "
   ]
  },
  {
   "cell_type": "markdown",
   "metadata": {},
   "source": [
    "Primero procedemos a importar Librerías:"
   ]
  },
  {
   "cell_type": "code",
   "execution_count": 68,
   "metadata": {},
   "outputs": [],
   "source": [
    "# Cargamos todas las librerías que ocuparemos en el proyecto:\n",
    "import pandas as pd # importamos las librerías de pandas\n",
    "from matplotlib import pyplot as plt # importamos las librerías pyplot de Matplotlib\n",
    "import numpy as np # importamos la librerías de NumPy, se usa para funciones matemáticas complejas\n",
    "from scipy import stats as st # importamos el módulo stats de la librería SciPy.\n",
    "import seaborn as sns # importamos la librería Seaborn para realizar unos gráficos\n",
    "sns.set_theme() # ocupamos esa librería para tener meejores gráficos\n",
    "from sklearn.model_selection import train_test_split #importamos la función train_test_split biblioteca scikit-learn\n",
    "from sklearn.tree import DecisionTreeClassifier # importamos la clase DecisionTreeClassifier\n",
    "from sklearn.ensemble import RandomForestClassifier # importamos la clase RandomForestClassifier \n",
    "from sklearn.metrics import accuracy_score # importamos la función accuracy_score de la biblioteca scikit-learn"
   ]
  },
  {
   "cell_type": "markdown",
   "metadata": {},
   "source": [
    "Leemos el Conjunto de Datos con la información de la compañía móvil Megaline:"
   ]
  },
  {
   "cell_type": "code",
   "execution_count": 31,
   "metadata": {},
   "outputs": [],
   "source": [
    "# Cargamos el DataFrame:\n",
    "megaline = pd.read_csv('/datasets/users_behavior.csv') #cargamos el DataFrame."
   ]
  },
  {
   "cell_type": "markdown",
   "metadata": {},
   "source": [
    "Mostramos información general sobre el Conjunto de Datos:"
   ]
  },
  {
   "cell_type": "code",
   "execution_count": 33,
   "metadata": {},
   "outputs": [
    {
     "name": "stdout",
     "output_type": "stream",
     "text": [
      "<class 'pandas.core.frame.DataFrame'>\n",
      "RangeIndex: 3214 entries, 0 to 3213\n",
      "Data columns (total 5 columns):\n",
      " #   Column    Non-Null Count  Dtype  \n",
      "---  ------    --------------  -----  \n",
      " 0   calls     3214 non-null   float64\n",
      " 1   minutes   3214 non-null   float64\n",
      " 2   messages  3214 non-null   float64\n",
      " 3   mb_used   3214 non-null   float64\n",
      " 4   is_ultra  3214 non-null   int64  \n",
      "dtypes: float64(4), int64(1)\n",
      "memory usage: 125.7 KB\n",
      "----------\n",
      "   calls  minutes  messages   mb_used  is_ultra\n",
      "0   40.0   311.90      83.0  19915.42         0\n",
      "1   85.0   516.75      56.0  22696.96         0\n",
      "2   77.0   467.66      86.0  21060.45         0\n",
      "3  106.0   745.53      81.0   8437.39         1\n",
      "4   66.0   418.74       1.0  14502.75         0\n"
     ]
    }
   ],
   "source": [
    "# Imprimimos la información general/resumida sobre el DataFrame\n",
    "megaline.info() # llamamos al parámetro info para conocer la información general/resumida del DataFrame.\n",
    "print('----------')\n",
    "print(megaline.head()) # imprimimos las primeras líneas para ver el conjunto de datos."
   ]
  },
  {
   "cell_type": "markdown",
   "metadata": {},
   "source": [
    "En base al método info podemos ver que el conjunto de datos se encuentra conformado por 5 columnas de variables. Todas corresponden a variables numéricas, siendo las columnas calls, minutes, messages y mb_used columnas float64 y la columna is-ultra una columna con datos enteros int64 de valores 0 y 1.\n",
    "\n",
    "No se ve la presencia valores ausentes. "
   ]
  },
  {
   "cell_type": "code",
   "execution_count": 34,
   "metadata": {},
   "outputs": [
    {
     "data": {
      "text/html": [
       "<div>\n",
       "<style scoped>\n",
       "    .dataframe tbody tr th:only-of-type {\n",
       "        vertical-align: middle;\n",
       "    }\n",
       "\n",
       "    .dataframe tbody tr th {\n",
       "        vertical-align: top;\n",
       "    }\n",
       "\n",
       "    .dataframe thead th {\n",
       "        text-align: right;\n",
       "    }\n",
       "</style>\n",
       "<table border=\"1\" class=\"dataframe\">\n",
       "  <thead>\n",
       "    <tr style=\"text-align: right;\">\n",
       "      <th></th>\n",
       "      <th>calls</th>\n",
       "      <th>minutes</th>\n",
       "      <th>messages</th>\n",
       "      <th>mb_used</th>\n",
       "      <th>is_ultra</th>\n",
       "    </tr>\n",
       "  </thead>\n",
       "  <tbody>\n",
       "    <tr>\n",
       "      <th>count</th>\n",
       "      <td>3214.000000</td>\n",
       "      <td>3214.000000</td>\n",
       "      <td>3214.000000</td>\n",
       "      <td>3214.000000</td>\n",
       "      <td>3214.000000</td>\n",
       "    </tr>\n",
       "    <tr>\n",
       "      <th>mean</th>\n",
       "      <td>63.038892</td>\n",
       "      <td>438.208787</td>\n",
       "      <td>38.281269</td>\n",
       "      <td>17207.673836</td>\n",
       "      <td>0.306472</td>\n",
       "    </tr>\n",
       "    <tr>\n",
       "      <th>std</th>\n",
       "      <td>33.236368</td>\n",
       "      <td>234.569872</td>\n",
       "      <td>36.148326</td>\n",
       "      <td>7570.968246</td>\n",
       "      <td>0.461100</td>\n",
       "    </tr>\n",
       "    <tr>\n",
       "      <th>min</th>\n",
       "      <td>0.000000</td>\n",
       "      <td>0.000000</td>\n",
       "      <td>0.000000</td>\n",
       "      <td>0.000000</td>\n",
       "      <td>0.000000</td>\n",
       "    </tr>\n",
       "    <tr>\n",
       "      <th>25%</th>\n",
       "      <td>40.000000</td>\n",
       "      <td>274.575000</td>\n",
       "      <td>9.000000</td>\n",
       "      <td>12491.902500</td>\n",
       "      <td>0.000000</td>\n",
       "    </tr>\n",
       "    <tr>\n",
       "      <th>50%</th>\n",
       "      <td>62.000000</td>\n",
       "      <td>430.600000</td>\n",
       "      <td>30.000000</td>\n",
       "      <td>16943.235000</td>\n",
       "      <td>0.000000</td>\n",
       "    </tr>\n",
       "    <tr>\n",
       "      <th>75%</th>\n",
       "      <td>82.000000</td>\n",
       "      <td>571.927500</td>\n",
       "      <td>57.000000</td>\n",
       "      <td>21424.700000</td>\n",
       "      <td>1.000000</td>\n",
       "    </tr>\n",
       "    <tr>\n",
       "      <th>max</th>\n",
       "      <td>244.000000</td>\n",
       "      <td>1632.060000</td>\n",
       "      <td>224.000000</td>\n",
       "      <td>49745.730000</td>\n",
       "      <td>1.000000</td>\n",
       "    </tr>\n",
       "  </tbody>\n",
       "</table>\n",
       "</div>"
      ],
      "text/plain": [
       "             calls      minutes     messages       mb_used     is_ultra\n",
       "count  3214.000000  3214.000000  3214.000000   3214.000000  3214.000000\n",
       "mean     63.038892   438.208787    38.281269  17207.673836     0.306472\n",
       "std      33.236368   234.569872    36.148326   7570.968246     0.461100\n",
       "min       0.000000     0.000000     0.000000      0.000000     0.000000\n",
       "25%      40.000000   274.575000     9.000000  12491.902500     0.000000\n",
       "50%      62.000000   430.600000    30.000000  16943.235000     0.000000\n",
       "75%      82.000000   571.927500    57.000000  21424.700000     1.000000\n",
       "max     244.000000  1632.060000   224.000000  49745.730000     1.000000"
      ]
     },
     "execution_count": 34,
     "metadata": {},
     "output_type": "execute_result"
    }
   ],
   "source": [
    "# Utilizamos el método describe() para realizar una exploración rápida inicial de las variables numéricas\n",
    "# del conjunto de datos.\n",
    "megaline.describe()"
   ]
  },
  {
   "cell_type": "markdown",
   "metadata": {},
   "source": [
    "Ocupando el método describe() podemos tener toda la información de las distintas columnas del conjunto de datos. En particular vemos los valores de promedio, desviación estándar y valores máximos y mínimos para cada variable. Estos estadísticos nos pueden ayudar a comprender la distribución y la variabilidad de los datos, así como a identificar posibles valores atípicos o anomalías.\n",
    "\n",
    "En particular, podemos ver que para la columna is_ultra, dado que es una columna binaria donde 1 representa el plan \"Ultra\" y 0 representa el plan \"Smart\", la media de esta columna indica la proporción de usuarios que están en el plan \"Ultra\".\n",
    "\n",
    "Entonces, para el conjunto de datos Megaline, aproximadamente el 30.65% de los usuarios están en el plan \"Ultra\", mientras que el restante 69.35% están en el plan \"Smart\"."
   ]
  },
  {
   "cell_type": "code",
   "execution_count": 35,
   "metadata": {},
   "outputs": [
    {
     "name": "stdout",
     "output_type": "stream",
     "text": [
      "El número de filas totalmente duplicadas en el DF Megaline es:\n",
      "0\n",
      "------------------\n"
     ]
    },
    {
     "data": {
      "text/plain": [
       "calls       0\n",
       "minutes     0\n",
       "messages    0\n",
       "mb_used     0\n",
       "is_ultra    0\n",
       "dtype: int64"
      ]
     },
     "execution_count": 35,
     "metadata": {},
     "output_type": "execute_result"
    }
   ],
   "source": [
    "# Verificamos que no hay filas totalmente duplicadas en el Dataframe Megaline.\n",
    "print('El número de filas totalmente duplicadas en el DF Megaline es:')\n",
    "print(megaline.duplicated().sum())# verificamos si hay filas duplicadas.\n",
    "\n",
    "\n",
    "print('------------------')\n",
    "\n",
    "#Verificamos que no hay valores ausentes en el Dataframe.\n",
    "megaline.isna().sum() # para conocer los valores ausentes ocupamos usamos el método isna() \n",
    "                          # junto con el método sum().\n",
    "\n"
   ]
  },
  {
   "cell_type": "markdown",
   "metadata": {},
   "source": [
    "Solo a modo de verificación confirmamos que no hay filas duplicadas ni valores ausentes en el Dataframe.\n",
    "\n",
    "Ahora, con el objeto de conocer un poco más el conjunto de datos antes de entrar a los modelos, realizaremos un conjunto de gráficos sobre como se comportan los promedios de cada variable en función del plan que tienen contratado."
   ]
  },
  {
   "cell_type": "code",
   "execution_count": 69,
   "metadata": {},
   "outputs": [
    {
     "data": {
      "image/png": "[encoded data removed]",
      "text/plain": [
       "<Figure size 1080x432 with 4 Axes>"
      ]
     },
     "metadata": {},
     "output_type": "display_data"
    }
   ],
   "source": [
    "# Calculamos la media de cada característica para cada categoría del target\n",
    "features = ['calls', 'minutes', 'messages', 'mb_used']\n",
    "colors = ['skyblue', 'salmon']\n",
    "\n",
    "plt.figure(figsize=(15, 6))\n",
    "\n",
    "for i, feature in enumerate(features, start=1):\n",
    "    plt.subplot(1, 4, i)\n",
    "    feature_mean_by_ultra = megaline.groupby('is_ultra')[feature].mean()\n",
    "    feature_mean_by_ultra.plot(kind='bar', color=colors)\n",
    "    plt.title(f'{feature.capitalize()} Promedio por Plan Ultra')\n",
    "    plt.xlabel('Plan Ultra (0: No, 1: Sí)')\n",
    "    plt.ylabel(f'{feature.capitalize()} Promedio')\n",
    "    plt.xticks(rotation=0)\n",
    "    plt.grid(axis='y', linestyle='--', alpha=0.7)\n",
    "\n",
    "plt.tight_layout()\n",
    "plt.show()"
   ]
  },
  {
   "cell_type": "markdown",
   "metadata": {},
   "source": [
    "A partir de los gráficos anteriores vemos que el promedio de las llamadas, minutos, mensajes y mb usados son mayores en los usuarios que tienen el plan Ultra."
   ]
  },
  {
   "cell_type": "markdown",
   "metadata": {},
   "source": [
    "### Segmentación de los datos. "
   ]
  },
  {
   "cell_type": "markdown",
   "metadata": {},
   "source": [
    "Vamos a proceder a segmentar los datos fuente en un conjunto de entrenamiento, uno de validación y uno de prueba."
   ]
  },
  {
   "cell_type": "code",
   "execution_count": 37,
   "metadata": {},
   "outputs": [],
   "source": [
    "# Extraemos la variable objetivo (target) del conjunto de datos y la almacenamos en target.\n",
    "target = \"is_ultra\"\n",
    "# Extraemos las características (features) del conjunto de datos y las almacenamos en features.\n",
    "features = [c for c in megaline.columns if c not in [target]]"
   ]
  },
  {
   "cell_type": "code",
   "execution_count": 38,
   "metadata": {},
   "outputs": [
    {
     "data": {
      "text/plain": [
       "['calls', 'minutes', 'messages', 'mb_used']"
      ]
     },
     "execution_count": 38,
     "metadata": {},
     "output_type": "execute_result"
    }
   ],
   "source": [
    "# Comprobamos que están correctas las caraterísticas (features), que son todos menos las variable aobjetivo.\n",
    "features"
   ]
  },
  {
   "cell_type": "markdown",
   "metadata": {},
   "source": [
    "Vamos a realizar la segmentación de los datos en conjuntos de entrenamiento, validación y prueba utilizando la función train_test_split() de scikit-learn. \n",
    "\n",
    "El conjunto de datos Megaline se va a dividir en:\n",
    "\n",
    "  Conjunto de Prueba (test_df): Se obtendrá del 18% del conjunto de datos original utilizando la primera llamada a train_test_split(). Este conjunto se utilizará para evaluar el rendimiento final del modelo.   \n",
    "  \n",
    "  Conjunto de Entrenamiento Completo (full_train_df): Se obtendrá del 82% restante del conjunto de datos original que no se utilizó para el conjunto de prueba.  \n",
    "  \n",
    "  Conjunto de Entrenamiento (train_df) y Conjunto de Validación (valid_df): Se obtienen dividiendo el conjunto de entrenamiento completo en una proporción del 77% y 23%, respectivamente, utilizando la segunda llamada a train_test_split(). "
   ]
  },
  {
   "cell_type": "code",
   "execution_count": 39,
   "metadata": {},
   "outputs": [],
   "source": [
    "# El dataset Megaline se divide en el conjunto de prueba (test_df) y el conjunto de entrenamiento completo\n",
    "# (full_train_df):\n",
    "full_train_df, test_df = train_test_split(\n",
    "    megaline,\n",
    "    test_size=0.18, \n",
    "    random_state=12345)\n",
    "\n",
    "# El conjunto de entrenamiento completo (full_train_df) se divide en el conjunto de entrenamiento (train_df) y \n",
    "# conjunto de validación (valid_df):\n",
    "train_df, valid_df = train_test_split(\n",
    "    full_train_df, \n",
    "    test_size=0.23, \n",
    "    random_state=12345)"
   ]
  },
  {
   "cell_type": "code",
   "execution_count": 40,
   "metadata": {},
   "outputs": [
    {
     "name": "stdout",
     "output_type": "stream",
     "text": [
      "Forma del Dataframe: (3214, 5)\n",
      "Forma del conjunto de entrenamiento: (2028, 5)\n",
      "Forma del conjunto de validación: (607, 5)\n",
      "Forma del conjunto de prueba: (579, 5)\n"
     ]
    }
   ],
   "source": [
    "# Imprimimos las formas (shapes) de los conjuntos de datos resultantes, para verificar sus tamaños.\n",
    "print(\"Forma del Dataframe:\", megaline.shape)\n",
    "print(\"Forma del conjunto de entrenamiento:\", train_df.shape)\n",
    "print(\"Forma del conjunto de validación:\", valid_df.shape)\n",
    "print(\"Forma del conjunto de prueba:\", test_df.shape)"
   ]
  },
  {
   "cell_type": "markdown",
   "metadata": {},
   "source": [
    "Mediante este método shape() confirmamos el tamaño del conjunto de entrenamiento de 63%, el conjunto de validación 19% y el conjunto de prueba de un 18%."
   ]
  },
  {
   "cell_type": "code",
   "execution_count": 42,
   "metadata": {},
   "outputs": [
    {
     "data": {
      "text/plain": [
       "[1.0,\n",
       " 0.8198506533914126,\n",
       " 0.6309894212818917,\n",
       " 0.18886123210952085,\n",
       " 0.18014934660858742]"
      ]
     },
     "execution_count": 42,
     "metadata": {},
     "output_type": "execute_result"
    }
   ],
   "source": [
    "[len (df)/ len (megaline) for df in [megaline, full_train_df, train_df, valid_df, test_df]]"
   ]
  },
  {
   "cell_type": "markdown",
   "metadata": {},
   "source": [
    "Mediante este cálculo confirmamos los porcentajes de cada conjunto, vemos que el conjunto de entrenamiento tiene un 63% del total, en cambio los conjuntods de validación y prueba tienen un 19% y 18% erspectivamente."
   ]
  },
  {
   "cell_type": "markdown",
   "metadata": {},
   "source": [
    "### Modelo Árbol de Decisión. "
   ]
  },
  {
   "cell_type": "markdown",
   "metadata": {},
   "source": [
    "Primero evaluamos el rendimiento del modelo de árbol de decisión con una profundiad máxima (max_depth) igual a 1."
   ]
  },
  {
   "cell_type": "code",
   "execution_count": 70,
   "metadata": {},
   "outputs": [
    {
     "data": {
      "text/plain": [
       "0.7479406919275123"
      ]
     },
     "execution_count": 70,
     "metadata": {},
     "output_type": "execute_result"
    }
   ],
   "source": [
    "#Creamos el Modelo de Árbol de Decisión (DecisionTreeClassifier) con una profundidad máxima de 1 \n",
    "# (para mantenerlo simple) y un estado aleatorio fijo para reproducibilidad.\n",
    "model = DecisionTreeClassifier(max_depth=1, random_state=12345)\n",
    "\n",
    "# Luego entrenamos el Modelo utilizando las características (features) del conjunto de entrenamiento (train_df)\n",
    "# y la variable objetivo (target).\n",
    "model. fit(train_df[features], train_df[target])\n",
    "\n",
    "# Utilizamos el modelo entrenado para hacer predicciones sobre las características del conjunto de validación\n",
    "# (valid_df[features]).\n",
    "y_preds = model.predict(valid_df[features])\n",
    "\n",
    "# Finalmente calculamos la exactitud del modelo comparando las etiquetas predichas (y_preds) \n",
    "# con las etiquetas reales del conjunto de validación (valid_df[target]).\n",
    "accuracy_score(valid_df[target], y_preds)"
   ]
  },
  {
   "cell_type": "markdown",
   "metadata": {},
   "source": [
    "Obtuvimos una exactitud del modelo de aproximadamente 0.7479, lo que significa que el modelo de árbol de decisión clasificó correctamente alrededor del 74.79% de las muestras en el conjunto de validación.\n",
    "\n",
    "Este resultado nos proporciona una indicación inicial del rendimiento del modelo. \n",
    "\n",
    "Ahora vamos a considerar ajustar el hiperparámetro de la profundidad máxima del árbol, ocupando un bucle for vamos a probar valores del 1 al 10, y registraremos el valor de profundidad que nos entregue la mayor exactitud."
   ]
  },
  {
   "cell_type": "code",
   "execution_count": 71,
   "metadata": {},
   "outputs": [
    {
     "name": "stdout",
     "output_type": "stream",
     "text": [
      "\n",
      "            Max depth: 1\n",
      "            Accuracy: 0.7479406919275123\n",
      "\n",
      "            \n",
      "\n",
      "            Max depth: 2\n",
      "            Accuracy: 0.7726523887973641\n",
      "\n",
      "            \n",
      "\n",
      "            Max depth: 3\n",
      "            Accuracy: 0.7940691927512356\n",
      "\n",
      "            \n",
      "\n",
      "            Max depth: 4\n",
      "            Accuracy: 0.7990115321252059\n",
      "\n",
      "            \n",
      "\n",
      "            Max depth: 8\n",
      "            Accuracy: 0.8023064250411862\n",
      "\n",
      "            \n",
      "\n",
      "            Max depth: 9\n",
      "            Accuracy: 0.8138385502471169\n",
      "\n",
      "            \n"
     ]
    }
   ],
   "source": [
    "max_score_depth = -1\n",
    "for max_d in [1, 2, 3, 4, 5, 6, 7, 8, 9, 10]:\n",
    "\n",
    "        model = DecisionTreeClassifier(max_depth=max_d, random_state=12345)\n",
    "\n",
    "        model.fit(train_df[features], train_df[target])\n",
    "        y_preds = model.predict(valid_df[features])\n",
    "\n",
    "        score = accuracy_score(valid_df[target], y_preds)\n",
    "\n",
    "        if score > max_score_depth:\n",
    "            max_score_depth = score\n",
    "            print(f\"\"\"\n",
    "            Max depth: {max_d}\n",
    "            Accuracy: {score}\n",
    "\n",
    "            \"\"\")"
   ]
  },
  {
   "cell_type": "markdown",
   "metadata": {},
   "source": [
    "El mejor valor de exactitud la obtuvimos para un valor de max_depth de 9, con una exactitud de aproximadamente 0.8138. Esto significa que el modelo de árbol de decisión con una profundidad máxima de 9 logró clasificar correctamente alrededor del 81.38% de las muestras en el conjunto de validación.\n",
    "\n",
    "Ahora que con este valor 9 para max_depth, vamos a utilizar este valor para entrenar un modelo final y evaluar su rendimiento en el conjunto de prueba para obtener una evaluación más sólida del modelo."
   ]
  },
  {
   "cell_type": "code",
   "execution_count": 72,
   "metadata": {},
   "outputs": [
    {
     "data": {
      "text/plain": [
       "0.7737478411053541"
      ]
     },
     "execution_count": 72,
     "metadata": {},
     "output_type": "execute_result"
    }
   ],
   "source": [
    "# Primero creamos el Modelo Final, ocupando el mejor valor de max_depth encontrado durante la búsqueda \n",
    "# de hiperparámetros (9) y lo guardamos en la variable final_model.\n",
    "final_model = DecisionTreeClassifier(max_depth=9, random_state=12345)\n",
    "\n",
    "#Entrenamos el Modelo Final:\n",
    "final_model.fit(full_train_df[features], full_train_df [target])\n",
    "\n",
    "#Hacemos Predicciones en el Conjunto de Prueba:\n",
    "test_preds = final_model.predict(test_df[features])\n",
    "\n",
    "# Calculamos la Exactitud del Modelo Final\n",
    "accuracy_score (test_df[target], test_preds)"
   ]
  },
  {
   "cell_type": "markdown",
   "metadata": {},
   "source": [
    "Obtuvimos una exactitud del modelo de aproximadamente 0.7737 en el conjunto de prueba. Esto significa que el modelo de árbol de decisión logró clasificar correctamente alrededor del 77.37% de las muestras en el conjunto de prueba.\n",
    "\n",
    "Este resultado proporciona una evaluación final del rendimiento del modelo en datos no vistos, lo que indica cómo generaliza el modelo a nuevas observaciones. Una exactitud del 77.37% es bastante buena y superior al umbral del exactitud de 0,75 solicitado.\n"
   ]
  },
  {
   "cell_type": "markdown",
   "metadata": {},
   "source": [
    "### Modelo Bosque Aleatorio. "
   ]
  },
  {
   "cell_type": "markdown",
   "metadata": {},
   "source": [
    "Primero para evaluar el rendimiento del modelo de Bosque Aleatorio en nuestros datos, comenzaremos probando el modelo con con 100 árboles en el bosque (n_estimators=100)."
   ]
  },
  {
   "cell_type": "code",
   "execution_count": 73,
   "metadata": {},
   "outputs": [
    {
     "data": {
      "text/plain": [
       "0.8088962108731467"
      ]
     },
     "execution_count": 73,
     "metadata": {},
     "output_type": "execute_result"
    }
   ],
   "source": [
    "# Creamos el Modelo de Bosque Aleatorio (RandomForestClassifier) con 100 árboles en el bosque (n_estimators=100) \n",
    "# y un estado aleatorio fijo para reproducibilidad (random_state=12345).\n",
    "model = RandomForestClassifier(n_estimators=100, random_state=12345)\n",
    "\n",
    "# Luego entrenamos el Modelo utilizando las características (features) del conjunto de entrenamiento (train_df)\n",
    "# y la variable objetivo (target).\n",
    "model.fit(train_df[features], train_df[target])\n",
    "\n",
    "# Utilizamos el modelo entrenado para hacer predicciones sobre las características del conjunto de validación\n",
    "# (valid_df[features]).\n",
    "y_preds = model.predict(valid_df[features])\n",
    "\n",
    "# Finalmente calculamos la exactitud del modelo comparando las etiquetas predichas (y_preds) \n",
    "# con las etiquetas reales del conjunto de validación (valid_df[target]).\n",
    "accuracy_score(valid_df[target], y_preds)"
   ]
  },
  {
   "cell_type": "markdown",
   "metadata": {},
   "source": [
    "Obtuvimos una exactitud del modelo de aproximadamente 0.8089 al usar el modelo de Bosque Aleatorio en el conjunto de validación. Esto significa que el modelo de Bosque Aleatorio logró clasificar correctamente alrededor del 80.89% de las muestras en el conjunto de validación.\n",
    "\n"
   ]
  },
  {
   "cell_type": "markdown",
   "metadata": {},
   "source": [
    "Ahora vamos a explorar diferentes combinaciones de hiperparámetros y encontrar la que maximice el rendimiento del modelo en el conjunto de validación.\n",
    "\n",
    "Para ello vamos a utilizar un bucle for anidado para iterar sobre diferentes valores de dos hiperparámetros del modelo de Bosque Aleatorio: el número de estimadores (n_estimators) y la profundidad máxima del árbol (max_depth). \n",
    "Ocuparemos valores de n_estimators (50, 100, 150, 200) y max_depth (5, 10, 15)."
   ]
  },
  {
   "cell_type": "code",
   "execution_count": 76,
   "metadata": {},
   "outputs": [
    {
     "name": "stdout",
     "output_type": "stream",
     "text": [
      "\n",
      "                N estimators: 50\n",
      "                Max depth: 5\n",
      "                Accuracy: 0.7973640856672158\n",
      "\n",
      "                \n",
      "\n",
      "                N estimators: 50\n",
      "                Max depth: 10\n",
      "                Accuracy: 0.7973640856672158\n",
      "\n",
      "                \n",
      "\n",
      "                N estimators: 100\n",
      "                Max depth: 10\n",
      "                Accuracy: 0.7973640856672158\n",
      "\n",
      "                \n"
     ]
    }
   ],
   "source": [
    "# Bucle para Ajustar los Hiperparámetros y luego actualizar el Mejor Puntaje: \n",
    "max_score = -100\n",
    "for n_estims in [50, 100, 150, 200]: \n",
    "        for max_d in [5, 10, 15]:\n",
    "\n",
    "            model = RandomForestClassifier(n_estimators=n_estims, max_depth=max_d, random_state=12345)\n",
    "\n",
    "            model.fit(train_df[features], train_df[target])\n",
    "            y_preds = model.predict(valid_df[features])\n",
    "\n",
    "            score_1 = accuracy_score(valid_df[target], y_preds)\n",
    "\n",
    "            if score_1 > max_score:\n",
    "                max_score = score_1\n",
    "                print(f\"\"\"\n",
    "                N estimators: {n_estims}\n",
    "                Max depth: {max_d}\n",
    "                Accuracy: {score}\n",
    "\n",
    "                \"\"\")"
   ]
  },
  {
   "cell_type": "markdown",
   "metadata": {},
   "source": [
    "El mejor resultado de exactitud encontrado fue para una combinación de hiperparámetros con 100 estimadores (n_estimators) y una profundidad máxima del árbol de 10 (max_depth). La exactitud alcanzada con esta configuración fue de aproximadamente 0.7973 en el conjunto de validación.\n",
    "\n",
    "Ahora utilizando la combinación óptima de hiperparámetros que encontramos (100 estimadores y profundidad máxima del árbol de 10) vamos a entrenar un modelo final de Bosque Aleatorio y lo evaluamos en el conjunto de prueba."
   ]
  },
  {
   "cell_type": "code",
   "execution_count": 77,
   "metadata": {},
   "outputs": [
    {
     "data": {
      "text/plain": [
       "0.7979274611398963"
      ]
     },
     "execution_count": 77,
     "metadata": {},
     "output_type": "execute_result"
    }
   ],
   "source": [
    "# Creamos el Modelo Final de Bosque Aleatorio,, con los hiperparámetros óptimos encontrados \n",
    "# (100 estimadores y profundidad máxima del árbol de 10): \n",
    "final_model = RandomForestClassifier(n_estimators=100, max_depth=10, random_state=12345)\n",
    "\n",
    "#Entrenamos el Modelo Final:\n",
    "final_model.fit(full_train_df[features], full_train_df [target])\n",
    "\n",
    "#Hacemos Predicciones en el Conjunto de Prueba:\n",
    "test_preds = final_model.predict(test_df[features])\n",
    "\n",
    "# Calculamos la Exactitud del Modelo Final:\n",
    "accuracy_score (test_df[target], test_preds)"
   ]
  },
  {
   "cell_type": "markdown",
   "metadata": {},
   "source": [
    "Obtuvimos una exactitud del modelo de aproximadamente 0.7979 en el conjunto de prueba al usar el modelo final de Bosque Aleatorio con la combinación óptima de hiperparámetros (100 estimadores y profundidad máxima del árbol de 10). Esto significa que el modelo logró clasificar correctamente alrededor del 79.79% de las muestras en el conjunto de prueba.\n",
    "\n",
    "Este resultado es importante porque proporciona una evaluación final del rendimiento del modelo en datos no vistos. Es un buen indicador de cómo generaliza el modelo a nuevas observaciones. \n",
    "\n",
    "La exactitud de este modelo final de Bosque Aleatorio (79,79%) fue mayor que el obtenido en el modelo final de árbol de decisión estudiado previamente, con el cual se obtuvo un valor de 77,37% y superior al umbral del exactitud de 0,75 solicitado."
   ]
  },
  {
   "cell_type": "markdown",
   "metadata": {},
   "source": [
    "### Prueba de Cordura. "
   ]
  },
  {
   "cell_type": "markdown",
   "metadata": {},
   "source": [
    "La prueba de cordura es una técnica utilizada para evaluar la validez y la lógica de los resultados obtenidos de un modelo predictivo. Consiste en realizar verificaciones o cálculos simples para asegurarse de que los resultados del modelo tengan sentido en el contexto del problema que se está abordando.\n",
    "\n",
    "En el contexto de nuestro problema de clasificación binaria, donde el objetivo es predecir si un usuario está en el plan \"Ultra\" o \"Smart\", una prueba de cordura común es verificar la proporción de cada clase en el conjunto de prueba y compararla con la proporción esperada en la población real.\n",
    "\n",
    "Para ello vamos a calcular la proporción de muestras con el valor de la clase 1 (plan \"Ultra\") y la proporción de muestras con el valor de la clase 0 (plan \"Smart\") en el conjunto de prueba."
   ]
  },
  {
   "cell_type": "code",
   "execution_count": 62,
   "metadata": {},
   "outputs": [
    {
     "data": {
      "text/plain": [
       "0.31088082901554404"
      ]
     },
     "execution_count": 62,
     "metadata": {},
     "output_type": "execute_result"
    }
   ],
   "source": [
    "#calculamos la proporción de muestras con el valor de la clase 1 (plan \"Ultra\") en el conjunto de prueba.\n",
    "(test_df[target] == 1). mean ()"
   ]
  },
  {
   "cell_type": "code",
   "execution_count": 63,
   "metadata": {},
   "outputs": [
    {
     "data": {
      "text/plain": [
       "0.689119170984456"
      ]
     },
     "execution_count": 63,
     "metadata": {},
     "output_type": "execute_result"
    }
   ],
   "source": [
    "#calculamos la proporción de muestras con el valor de la clase  0 (plan \"Smart\") en el conjunto de prueba.\n",
    "(test_df[target] == 0).mean()"
   ]
  },
  {
   "cell_type": "markdown",
   "metadata": {},
   "source": [
    "El resultado de 0.3108 indica que aproximadamente el 31.08% de las muestras en el conjunto de prueba pertenecen al plan \"Ultra\".\n",
    "El resultado de 0.6891 indica que aproximadamente el 68.91% de las muestras en el conjunto de prueba pertenecen al plan \"Smart\".\n",
    "\n",
    "Estos resultados tienen sentido, ya que reflejan la distribución esperada de las clases en el conjunto de prueba. \n",
    "\n",
    "De acuerdo a lo que nos proporcionó el método describe(), en el conjunto de datos Megaline, el 30.65% de las muestras están en el plan \"Ultra\" (como se indica en la columna is_ultra), mientras que el restante 69.35% están en el plan \"Smart\". Por lo tanto, los resultados obtenidos están en línea con esta distribución."
   ]
  },
  {
   "cell_type": "markdown",
   "metadata": {},
   "source": [
    "### Conclusión General. "
   ]
  },
  {
   "cell_type": "markdown",
   "metadata": {},
   "source": [
    "\n",
    "En este proyecto, hemos explorado el conjunto de datos de Megaline con el objetivo de predecir los planes de los usuarios (Ultra o Smart) basándonos en su comportamiento de uso. Para lograrlo, probamos dos modelos de aprendizaje automático: Árbol de Decisión y Bosque Aleatorio. Durante el proceso, realizamos ajustes en los hiperparámetros de cada modelo para mejorar su rendimiento y maximizar la exactitud de las predicciones.\n",
    "\n",
    "Nuestra evaluación reveló que el modelo final de Bosque Aleatorio superó al modelo de Árbol de Decisión en términos de exactitud. El modelo de Bosque Aleatorio logró una exactitud del 79.79%, mientras que el modelo de Árbol de Decisión obtuvo una exactitud del 77.37%. Además, el modelo de Bosque Aleatorio también superó el umbral de exactitud requerido del 75%.\n",
    "\n",
    "Una de las fortalezas del modelo de Bosque Aleatorio es su capacidad para generalizar bien a datos no vistos y manejar relaciones más complejas en los datos. Esto se refleja en su rendimiento superior en comparación con el modelo de Árbol de Decisión.\n",
    "\n",
    "En resumen, este proyecto nos ha permitido explorar y comprender el proceso de desarrollo de modelos de aprendizaje automático, desde la exploración de datos hasta la evaluación y selección de modelos. El éxito del modelo de Bosque Aleatorio destaca la importancia de la experimentación con diferentes hiperparámetros para obtener los mejores resultados posibles en problemas de clasificación."
   ]
  }
 ],
 "metadata": {
  "kernelspec": {
   "display_name": "Python 3 (ipykernel)",
   "language": "python",
   "name": "python3"
  },
  "language_info": {
   "codemirror_mode": {
    "name": "ipython",
    "version": 3
   },
   "file_extension": ".py",
   "mimetype": "text/x-python",
   "name": "python",
   "nbconvert_exporter": "python",
   "pygments_lexer": "ipython3",
   "version": "3.9.19"
  },
  "toc": {
   "base_numbering": 1,
   "nav_menu": {},
   "number_sections": true,
   "sideBar": true,
   "skip_h1_title": true,
   "title_cell": "Table of Contents",
   "title_sidebar": "Contents",
   "toc_cell": false,
   "toc_position": {},
   "toc_section_display": true,
   "toc_window_display": true
  }
 },
 "nbformat": 4,
 "nbformat_minor": 2
}
